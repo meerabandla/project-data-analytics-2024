{
 "cells": [
  {
   "cell_type": "code",
   "execution_count": 2,
   "metadata": {},
   "outputs": [
    {
     "name": "stdout",
     "output_type": "stream",
     "text": [
      "   age   sex current_smoker  heart_rate blood_pressure  cigs_per_day   chol\n",
      "0   54  male            yes          95         110/72           NaN  219.0\n",
      "1   45  male            yes          64         121/72           NaN  248.0\n",
      "2   58  male            yes          81       127.5/76           NaN  235.0\n",
      "3   42  male            yes          90       122.5/80           NaN  225.0\n",
      "4   42  male            yes          62         119/80           NaN  226.0\n",
      "               age   heart_rate  cigs_per_day         chol\n",
      "count  3900.000000  3900.000000   3886.000000  3893.000000\n",
      "mean     49.537949    75.688974      9.168554   236.595941\n",
      "std       8.559275    12.015376     12.037999    44.375365\n",
      "min      32.000000    44.000000      0.000000   113.000000\n",
      "25%      42.000000    68.000000      0.000000   206.000000\n",
      "50%      49.000000    75.000000      0.000000   234.000000\n",
      "75%      56.000000    82.000000     20.000000   263.000000\n",
      "max      70.000000   143.000000     70.000000   696.000000\n",
      "<class 'pandas.core.frame.DataFrame'>\n",
      "RangeIndex: 3900 entries, 0 to 3899\n",
      "Data columns (total 7 columns):\n",
      " #   Column          Non-Null Count  Dtype  \n",
      "---  ------          --------------  -----  \n",
      " 0   age             3900 non-null   int64  \n",
      " 1   sex             3900 non-null   object \n",
      " 2   current_smoker  3900 non-null   object \n",
      " 3   heart_rate      3900 non-null   int64  \n",
      " 4   blood_pressure  3900 non-null   object \n",
      " 5   cigs_per_day    3886 non-null   float64\n",
      " 6   chol            3893 non-null   float64\n",
      "dtypes: float64(2), int64(2), object(3)\n",
      "memory usage: 213.4+ KB\n",
      "None\n",
      "age                0\n",
      "sex                0\n",
      "current_smoker     0\n",
      "heart_rate         0\n",
      "blood_pressure     0\n",
      "cigs_per_day      14\n",
      "chol               7\n",
      "dtype: int64\n"
     ]
    }
   ],
   "source": [
    "\n",
    "import pandas as pd\n",
    "import numpy as np\n",
    "df = pd.read_csv('smoking_health_data_final.csv')\n",
    "# Display the first few rows\n",
    "print(df.head())\n",
    "\n",
    "# Get summary statistics\n",
    "print(df.describe())\n",
    "\n",
    "# Display info about the DataFrame (e.g., data types, non-null counts)\n",
    "print(df.info())\n",
    "# Check for missing values\n",
    "print(df.isnull().sum())"
   ]
  },
  {
   "cell_type": "code",
   "execution_count": 3,
   "metadata": {},
   "outputs": [
    {
     "name": "stdout",
     "output_type": "stream",
     "text": [
      "age                0\n",
      "sex                0\n",
      "current_smoker     0\n",
      "heart_rate         0\n",
      "blood_pressure     0\n",
      "cigs_per_day      14\n",
      "chol               7\n",
      "dtype: int64\n"
     ]
    }
   ],
   "source": [
    "# Check for missing values\n",
    "print(df.isnull().sum())"
   ]
  },
  {
   "cell_type": "code",
   "execution_count": 4,
   "metadata": {},
   "outputs": [
    {
     "data": {
      "text/plain": [
       "<bound method DataFrame.fillna of       age   sex current_smoker  heart_rate blood_pressure  cigs_per_day   chol\n",
       "0      54  male            yes          95         110/72           NaN  219.0\n",
       "1      45  male            yes          64         121/72           NaN  248.0\n",
       "2      58  male            yes          81       127.5/76           NaN  235.0\n",
       "3      42  male            yes          90       122.5/80           NaN  225.0\n",
       "4      42  male            yes          62         119/80           NaN  226.0\n",
       "...   ...   ...            ...         ...            ...           ...    ...\n",
       "3895   37  male            yes          88     122.5/82.5          60.0  254.0\n",
       "3896   49  male            yes          70         123/75          60.0  213.0\n",
       "3897   56  male            yes          70         125/79          60.0  246.0\n",
       "3898   50  male            yes          85         134/95          60.0  340.0\n",
       "3899   40  male            yes          98         132/86          70.0  210.0\n",
       "\n",
       "[3900 rows x 7 columns]>"
      ]
     },
     "execution_count": 4,
     "metadata": {},
     "output_type": "execute_result"
    }
   ],
   "source": [
    "df.fillna\n"
   ]
  },
  {
   "cell_type": "code",
   "execution_count": 5,
   "metadata": {},
   "outputs": [],
   "source": [
    "# removing duplicates\n",
    "\n",
    "df = df.drop_duplicates()\n",
    "\n",
    "\n",
    "\n",
    "\n",
    "\n",
    "\n",
    "\n",
    "\n",
    "\n"
   ]
  },
  {
   "cell_type": "code",
   "execution_count": 6,
   "metadata": {},
   "outputs": [
    {
     "name": "stdout",
     "output_type": "stream",
     "text": [
      "<class 'pandas.core.frame.DataFrame'>\n",
      "Int64Index: 3900 entries, 0 to 3899\n",
      "Data columns (total 7 columns):\n",
      " #   Column          Non-Null Count  Dtype  \n",
      "---  ------          --------------  -----  \n",
      " 0   age             3900 non-null   int64  \n",
      " 1   sex             3900 non-null   object \n",
      " 2   current_smoker  3900 non-null   object \n",
      " 3   heart_rate      3900 non-null   int64  \n",
      " 4   blood_pressure  3900 non-null   object \n",
      " 5   cigs_per_day    3886 non-null   float64\n",
      " 6   chol            3893 non-null   float64\n",
      "dtypes: float64(2), int64(2), object(3)\n",
      "memory usage: 243.8+ KB\n",
      "None\n",
      "               age   heart_rate  cigs_per_day         chol\n",
      "count  3900.000000  3900.000000   3886.000000  3893.000000\n",
      "mean     49.537949    75.688974      9.168554   236.595941\n",
      "std       8.559275    12.015376     12.037999    44.375365\n",
      "min      32.000000    44.000000      0.000000   113.000000\n",
      "25%      42.000000    68.000000      0.000000   206.000000\n",
      "50%      49.000000    75.000000      0.000000   234.000000\n",
      "75%      56.000000    82.000000     20.000000   263.000000\n",
      "max      70.000000   143.000000     70.000000   696.000000\n"
     ]
    }
   ],
   "source": [
    "#verify cleaned data\n",
    "print(df.info())\n",
    "print(df.describe())"
   ]
  },
  {
   "cell_type": "code",
   "execution_count": 7,
   "metadata": {},
   "outputs": [],
   "source": [
    "#save cleaned data\n",
    "df.to_csv('cleaned_smokers_health_data.csv', index=False)"
   ]
  },
  {
   "cell_type": "code",
   "execution_count": null,
   "metadata": {},
   "outputs": [],
   "source": []
  }
 ],
 "metadata": {
  "kernelspec": {
   "display_name": "base",
   "language": "python",
   "name": "python3"
  },
  "language_info": {
   "codemirror_mode": {
    "name": "ipython",
    "version": 3
   },
   "file_extension": ".py",
   "mimetype": "text/x-python",
   "name": "python",
   "nbconvert_exporter": "python",
   "pygments_lexer": "ipython3",
   "version": "3.11.4"
  }
 },
 "nbformat": 4,
 "nbformat_minor": 2
}
